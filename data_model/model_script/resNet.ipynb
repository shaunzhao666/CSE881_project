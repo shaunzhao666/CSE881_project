{
 "cells": [
  {
   "cell_type": "code",
   "execution_count": 1,
   "id": "initial_id",
   "metadata": {
    "collapsed": true,
    "ExecuteTime": {
     "end_time": "2023-11-21T15:01:46.947690081Z",
     "start_time": "2023-11-21T15:01:45.858056259Z"
    }
   },
   "outputs": [
    {
     "name": "stderr",
     "output_type": "stream",
     "text": [
      "2023-11-21 10:01:45.821532: I tensorflow/core/platform/cpu_feature_guard.cc:193] This TensorFlow binary is optimized with oneAPI Deep Neural Network Library (oneDNN) to use the following CPU instructions in performance-critical operations:  AVX2 FMA\n",
      "To enable them in other operations, rebuild TensorFlow with the appropriate compiler flags.\n",
      "2023-11-21 10:01:46.474784: W tensorflow/compiler/xla/stream_executor/platform/default/dso_loader.cc:64] Could not load dynamic library 'libnvinfer.so.7'; dlerror: libnvinfer.so.7: cannot open shared object file: No such file or directory; LD_LIBRARY_PATH: /home/zhangze6/Research/cudnn-11.2-linux-x64-v8.1.1.33/cuda/lib64:/usr/local/cuda-11.2/lib64\n",
      "2023-11-21 10:01:46.474827: W tensorflow/compiler/xla/stream_executor/platform/default/dso_loader.cc:64] Could not load dynamic library 'libnvinfer_plugin.so.7'; dlerror: libnvinfer_plugin.so.7: cannot open shared object file: No such file or directory; LD_LIBRARY_PATH: /home/zhangze6/Research/cudnn-11.2-linux-x64-v8.1.1.33/cuda/lib64:/usr/local/cuda-11.2/lib64\n",
      "2023-11-21 10:01:46.474832: W tensorflow/compiler/tf2tensorrt/utils/py_utils.cc:38] TF-TRT Warning: Cannot dlopen some TensorRT libraries. If you would like to use Nvidia GPU with TensorRT, please make sure the missing libraries mentioned above are installed properly.\n"
     ]
    },
    {
     "name": "stdout",
     "output_type": "stream",
     "text": [
      "2.11.0\n",
      "2.11.0\n"
     ]
    }
   ],
   "source": [
    "import numpy as np\n",
    "import tensorflow as tf\n",
    "print(tf.__version__)\n",
    "print(tf.keras.__version__)\n",
    "from sklearn.model_selection import train_test_split\n",
    "from sklearn.metrics import confusion_matrix, classification_report\n",
    "import matplotlib.pyplot as plt\n",
    "import seaborn as sns\n",
    "\n",
    "# Use TensorFlow's Keras API\n",
    "# Example of using Keras API directly from TensorFlow\n",
    "# keras_layers = tf.keras.layers\n",
    "# keras_utils = tf.keras.utils\n",
    "from tensorflow import keras\n",
    "from tensorflow.keras import layers\n",
    "from tensorflow.keras.utils import to_categorical"
   ]
  },
  {
   "cell_type": "code",
   "execution_count": 2,
   "outputs": [
    {
     "name": "stdout",
     "output_type": "stream",
     "text": [
      "(1728, 256, 256)\n",
      "(1728,)\n"
     ]
    }
   ],
   "source": [
    "images = np.load(\"../images_CNN.npy\")\n",
    "print(images.shape)\n",
    "labels = np.load(\"../labels_CNN.npy\")\n",
    "print(labels.shape)"
   ],
   "metadata": {
    "collapsed": false,
    "ExecuteTime": {
     "end_time": "2023-11-21T15:01:50.772375211Z",
     "start_time": "2023-11-21T15:01:50.749755353Z"
    }
   },
   "id": "ffc119c855f9c28f"
  },
  {
   "cell_type": "code",
   "execution_count": 3,
   "outputs": [
    {
     "data": {
      "text/plain": "array(['Cas', 'Gem', 'Ori', 'Per', 'ST', 'UM'], dtype='<U3')"
     },
     "execution_count": 3,
     "metadata": {},
     "output_type": "execute_result"
    }
   ],
   "source": [
    "unique_labels, counts = np.unique(labels, return_counts=True)\n",
    "unique_labels"
   ],
   "metadata": {
    "collapsed": false,
    "ExecuteTime": {
     "end_time": "2023-11-21T15:02:07.442099202Z",
     "start_time": "2023-11-21T15:02:07.426861046Z"
    }
   },
   "id": "c8232bc10362d9bc"
  },
  {
   "cell_type": "code",
   "execution_count": 4,
   "outputs": [
    {
     "data": {
      "text/plain": "array([[0., 0., 0., 1., 0., 0.],\n       [0., 0., 0., 1., 0., 0.],\n       [0., 0., 0., 1., 0., 0.],\n       ...,\n       [0., 0., 0., 1., 0., 0.],\n       [0., 0., 0., 1., 0., 0.],\n       [0., 0., 0., 1., 0., 0.]], dtype=float32)"
     },
     "execution_count": 4,
     "metadata": {},
     "output_type": "execute_result"
    }
   ],
   "source": [
    "label_mapping = {'Cas': 0, 'Gem': 1, 'Ori': 2, 'Per': 3, 'ST': 4, 'UM': 5}\n",
    "labels_mapped = [label_mapping[label] for label in labels]\n",
    "labels_encoded = to_categorical(labels_mapped, num_classes=6)\n",
    "labels_encoded"
   ],
   "metadata": {
    "collapsed": false,
    "ExecuteTime": {
     "end_time": "2023-11-21T15:02:23.346743551Z",
     "start_time": "2023-11-21T15:02:23.325625967Z"
    }
   },
   "id": "913126558d26652d"
  },
  {
   "cell_type": "code",
   "execution_count": 5,
   "outputs": [
    {
     "data": {
      "text/plain": "1.0"
     },
     "execution_count": 5,
     "metadata": {},
     "output_type": "execute_result"
    }
   ],
   "source": [
    "images = images/255\n",
    "images.max()"
   ],
   "metadata": {
    "collapsed": false,
    "ExecuteTime": {
     "end_time": "2023-11-21T15:02:34.244479029Z",
     "start_time": "2023-11-21T15:02:34.021914768Z"
    }
   },
   "id": "177d5e18fbb3cad9"
  },
  {
   "cell_type": "code",
   "execution_count": 6,
   "outputs": [
    {
     "name": "stdout",
     "output_type": "stream",
     "text": [
      "(1382, 256, 256)\n",
      "(1382, 6)\n"
     ]
    }
   ],
   "source": [
    "x_train, x_test, y_train, y_test = train_test_split(images, labels_encoded, test_size=0.2, random_state=42, stratify=labels_encoded)\n",
    "print(x_train.shape)\n",
    "print(y_train.shape)"
   ],
   "metadata": {
    "collapsed": false,
    "ExecuteTime": {
     "end_time": "2023-11-21T15:02:46.708786961Z",
     "start_time": "2023-11-21T15:02:46.568964191Z"
    }
   },
   "id": "61e052bc6b29325c"
  },
  {
   "cell_type": "code",
   "execution_count": 7,
   "outputs": [
    {
     "name": "stdout",
     "output_type": "stream",
     "text": [
      "Model: \"model\"\n",
      "__________________________________________________________________________________________________\n",
      " Layer (type)                   Output Shape         Param #     Connected to                     \n",
      "==================================================================================================\n",
      " input_1 (InputLayer)           [(None, 256, 256, 1  0           []                               \n",
      "                                )]                                                                \n",
      "                                                                                                  \n",
      " conv2d (Conv2D)                (None, 128, 128, 64  3200        ['input_1[0][0]']                \n",
      "                                )                                                                 \n",
      "                                                                                                  \n",
      " batch_normalization (BatchNorm  (None, 128, 128, 64  256        ['conv2d[0][0]']                 \n",
      " alization)                     )                                                                 \n",
      "                                                                                                  \n",
      " re_lu (ReLU)                   (None, 128, 128, 64  0           ['batch_normalization[0][0]']    \n",
      "                                )                                                                 \n",
      "                                                                                                  \n",
      " max_pooling2d (MaxPooling2D)   (None, 64, 64, 64)   0           ['re_lu[0][0]']                  \n",
      "                                                                                                  \n",
      " conv2d_1 (Conv2D)              (None, 64, 64, 64)   36928       ['max_pooling2d[0][0]']          \n",
      "                                                                                                  \n",
      " batch_normalization_1 (BatchNo  (None, 64, 64, 64)  256         ['conv2d_1[0][0]']               \n",
      " rmalization)                                                                                     \n",
      "                                                                                                  \n",
      " re_lu_1 (ReLU)                 (None, 64, 64, 64)   0           ['batch_normalization_1[0][0]']  \n",
      "                                                                                                  \n",
      " conv2d_2 (Conv2D)              (None, 64, 64, 64)   36928       ['re_lu_1[0][0]']                \n",
      "                                                                                                  \n",
      " batch_normalization_2 (BatchNo  (None, 64, 64, 64)  256         ['conv2d_2[0][0]']               \n",
      " rmalization)                                                                                     \n",
      "                                                                                                  \n",
      " add (Add)                      (None, 64, 64, 64)   0           ['batch_normalization_2[0][0]',  \n",
      "                                                                  'max_pooling2d[0][0]']          \n",
      "                                                                                                  \n",
      " re_lu_2 (ReLU)                 (None, 64, 64, 64)   0           ['add[0][0]']                    \n",
      "                                                                                                  \n",
      " conv2d_3 (Conv2D)              (None, 64, 64, 64)   36928       ['re_lu_2[0][0]']                \n",
      "                                                                                                  \n",
      " batch_normalization_3 (BatchNo  (None, 64, 64, 64)  256         ['conv2d_3[0][0]']               \n",
      " rmalization)                                                                                     \n",
      "                                                                                                  \n",
      " re_lu_3 (ReLU)                 (None, 64, 64, 64)   0           ['batch_normalization_3[0][0]']  \n",
      "                                                                                                  \n",
      " conv2d_4 (Conv2D)              (None, 64, 64, 64)   36928       ['re_lu_3[0][0]']                \n",
      "                                                                                                  \n",
      " batch_normalization_4 (BatchNo  (None, 64, 64, 64)  256         ['conv2d_4[0][0]']               \n",
      " rmalization)                                                                                     \n",
      "                                                                                                  \n",
      " add_1 (Add)                    (None, 64, 64, 64)   0           ['batch_normalization_4[0][0]',  \n",
      "                                                                  're_lu_2[0][0]']                \n",
      "                                                                                                  \n",
      " re_lu_4 (ReLU)                 (None, 64, 64, 64)   0           ['add_1[0][0]']                  \n",
      "                                                                                                  \n",
      " global_average_pooling2d (Glob  (None, 64)          0           ['re_lu_4[0][0]']                \n",
      " alAveragePooling2D)                                                                              \n",
      "                                                                                                  \n",
      " dense (Dense)                  (None, 6)            390         ['global_average_pooling2d[0][0]'\n",
      "                                                                 ]                                \n",
      "                                                                                                  \n",
      "==================================================================================================\n",
      "Total params: 152,582\n",
      "Trainable params: 151,942\n",
      "Non-trainable params: 640\n",
      "__________________________________________________________________________________________________\n"
     ]
    },
    {
     "name": "stderr",
     "output_type": "stream",
     "text": [
      "2023-11-21 10:11:43.170341: I tensorflow/compiler/xla/stream_executor/cuda/cuda_gpu_executor.cc:981] successful NUMA node read from SysFS had negative value (-1), but there must be at least one NUMA node, so returning NUMA node zero\n",
      "2023-11-21 10:11:43.174830: I tensorflow/compiler/xla/stream_executor/cuda/cuda_gpu_executor.cc:981] successful NUMA node read from SysFS had negative value (-1), but there must be at least one NUMA node, so returning NUMA node zero\n",
      "2023-11-21 10:11:43.175191: I tensorflow/compiler/xla/stream_executor/cuda/cuda_gpu_executor.cc:981] successful NUMA node read from SysFS had negative value (-1), but there must be at least one NUMA node, so returning NUMA node zero\n",
      "2023-11-21 10:11:43.175742: I tensorflow/core/platform/cpu_feature_guard.cc:193] This TensorFlow binary is optimized with oneAPI Deep Neural Network Library (oneDNN) to use the following CPU instructions in performance-critical operations:  AVX2 FMA\n",
      "To enable them in other operations, rebuild TensorFlow with the appropriate compiler flags.\n",
      "2023-11-21 10:11:43.176408: I tensorflow/compiler/xla/stream_executor/cuda/cuda_gpu_executor.cc:981] successful NUMA node read from SysFS had negative value (-1), but there must be at least one NUMA node, so returning NUMA node zero\n",
      "2023-11-21 10:11:43.176740: I tensorflow/compiler/xla/stream_executor/cuda/cuda_gpu_executor.cc:981] successful NUMA node read from SysFS had negative value (-1), but there must be at least one NUMA node, so returning NUMA node zero\n",
      "2023-11-21 10:11:43.177031: I tensorflow/compiler/xla/stream_executor/cuda/cuda_gpu_executor.cc:981] successful NUMA node read from SysFS had negative value (-1), but there must be at least one NUMA node, so returning NUMA node zero\n",
      "2023-11-21 10:11:43.585294: I tensorflow/compiler/xla/stream_executor/cuda/cuda_gpu_executor.cc:981] successful NUMA node read from SysFS had negative value (-1), but there must be at least one NUMA node, so returning NUMA node zero\n",
      "2023-11-21 10:11:43.585690: I tensorflow/compiler/xla/stream_executor/cuda/cuda_gpu_executor.cc:981] successful NUMA node read from SysFS had negative value (-1), but there must be at least one NUMA node, so returning NUMA node zero\n",
      "2023-11-21 10:11:43.585981: I tensorflow/compiler/xla/stream_executor/cuda/cuda_gpu_executor.cc:981] successful NUMA node read from SysFS had negative value (-1), but there must be at least one NUMA node, so returning NUMA node zero\n",
      "2023-11-21 10:11:43.586235: I tensorflow/core/common_runtime/gpu/gpu_device.cc:1613] Created device /job:localhost/replica:0/task:0/device:GPU:0 with 9148 MB memory:  -> device: 0, name: NVIDIA GeForce RTX 3080 Ti, pci bus id: 0000:01:00.0, compute capability: 8.6\n"
     ]
    }
   ],
   "source": [
    "from tensorflow.keras.layers import Input, Conv2D, BatchNormalization, ReLU, Add, MaxPooling2D, GlobalAveragePooling2D, Dense\n",
    "from tensorflow.keras.models import Model\n",
    "\n",
    "def residual_block(x, filters, kernel_size=3, stride=1):\n",
    "    # Shortcut\n",
    "    shortcut = x\n",
    "\n",
    "    # First convolution layer\n",
    "    x = Conv2D(filters, kernel_size=kernel_size, strides=stride, padding=\"same\")(x)\n",
    "    x = BatchNormalization()(x)\n",
    "    x = ReLU()(x)\n",
    "\n",
    "    # Second convolution layer\n",
    "    x = Conv2D(filters, kernel_size=kernel_size, strides=1, padding=\"same\")(x)\n",
    "    x = BatchNormalization()(x)\n",
    "\n",
    "    # Adding the shortcut to the output of the convolution block\n",
    "    x = Add()([x, shortcut])\n",
    "    x = ReLU()(x)\n",
    "\n",
    "    return x\n",
    "\n",
    "def simple_resnet(input_shape, num_classes):\n",
    "    inputs = Input(shape=input_shape)\n",
    "\n",
    "    x = Conv2D(64, kernel_size=7, strides=2, padding=\"same\")(inputs)\n",
    "    x = BatchNormalization()(x)\n",
    "    x = ReLU()(x)\n",
    "    x = MaxPooling2D(pool_size=3, strides=2, padding=\"same\")(x)\n",
    "\n",
    "    # Residual blocks\n",
    "    x = residual_block(x, 64)\n",
    "    x = residual_block(x, 64)\n",
    "\n",
    "    # Global Average Pooling and Output layer\n",
    "    x = GlobalAveragePooling2D()(x)\n",
    "    outputs = Dense(num_classes, activation='softmax')(x)\n",
    "\n",
    "    model = Model(inputs=inputs, outputs=outputs)\n",
    "    return model\n",
    "\n",
    "input_shape = (256, 256, 1)  # images size\n",
    "num_classes = 6  # Number of classes \n",
    "\n",
    "Resmodel = simple_resnet(input_shape, num_classes)\n",
    "Resmodel.summary()\n",
    "\n",
    "Resmodel.compile(optimizer='adam', loss='categorical_crossentropy', metrics=['accuracy'])"
   ],
   "metadata": {
    "collapsed": false,
    "ExecuteTime": {
     "end_time": "2023-11-21T15:11:43.848276122Z",
     "start_time": "2023-11-21T15:11:43.146115872Z"
    }
   },
   "id": "84c97eef7505163e"
  },
  {
   "cell_type": "code",
   "execution_count": 10,
   "outputs": [
    {
     "name": "stdout",
     "output_type": "stream",
     "text": [
      "Epoch 1/20\n",
      "44/44 [==============================] - 1s 21ms/step - loss: 1.2336 - accuracy: 0.5217\n",
      "Epoch 2/20\n",
      "44/44 [==============================] - 1s 21ms/step - loss: 1.2041 - accuracy: 0.5391\n",
      "Epoch 3/20\n",
      "44/44 [==============================] - 1s 21ms/step - loss: 1.1710 - accuracy: 0.5449\n",
      "Epoch 4/20\n",
      "44/44 [==============================] - 1s 21ms/step - loss: 1.1304 - accuracy: 0.5658\n",
      "Epoch 5/20\n",
      "44/44 [==============================] - 1s 21ms/step - loss: 1.1011 - accuracy: 0.5745\n",
      "Epoch 6/20\n",
      "44/44 [==============================] - 1s 22ms/step - loss: 1.0948 - accuracy: 0.5847\n",
      "Epoch 7/20\n",
      "44/44 [==============================] - 1s 21ms/step - loss: 1.0658 - accuracy: 0.6042\n",
      "Epoch 8/20\n",
      "44/44 [==============================] - 1s 21ms/step - loss: 1.0559 - accuracy: 0.6027\n",
      "Epoch 9/20\n",
      "44/44 [==============================] - 1s 21ms/step - loss: 1.0399 - accuracy: 0.6158\n",
      "Epoch 10/20\n",
      "44/44 [==============================] - 1s 21ms/step - loss: 1.0224 - accuracy: 0.6042\n",
      "Epoch 11/20\n",
      "44/44 [==============================] - 1s 21ms/step - loss: 0.9882 - accuracy: 0.6360\n",
      "Epoch 12/20\n",
      "44/44 [==============================] - 1s 21ms/step - loss: 0.9904 - accuracy: 0.6223\n",
      "Epoch 13/20\n",
      "44/44 [==============================] - 1s 21ms/step - loss: 0.9482 - accuracy: 0.6563\n",
      "Epoch 14/20\n",
      "44/44 [==============================] - 1s 21ms/step - loss: 0.9476 - accuracy: 0.6491\n",
      "Epoch 15/20\n",
      "44/44 [==============================] - 1s 21ms/step - loss: 0.9298 - accuracy: 0.6534\n",
      "Epoch 16/20\n",
      "44/44 [==============================] - 1s 21ms/step - loss: 0.9234 - accuracy: 0.6548\n",
      "Epoch 17/20\n",
      "44/44 [==============================] - 1s 21ms/step - loss: 0.8798 - accuracy: 0.6795\n",
      "Epoch 18/20\n",
      "44/44 [==============================] - 1s 21ms/step - loss: 0.8726 - accuracy: 0.6831\n",
      "Epoch 19/20\n",
      "44/44 [==============================] - 1s 21ms/step - loss: 0.8441 - accuracy: 0.6896\n",
      "Epoch 20/20\n",
      "44/44 [==============================] - 1s 21ms/step - loss: 0.8489 - accuracy: 0.6961\n"
     ]
    },
    {
     "data": {
      "text/plain": "<keras.callbacks.History at 0x7f3b8403dc90>"
     },
     "execution_count": 10,
     "metadata": {},
     "output_type": "execute_result"
    }
   ],
   "source": [
    "Resmodel.fit(x_train, y_train, epochs = 20, batch_size=32)"
   ],
   "metadata": {
    "collapsed": false,
    "ExecuteTime": {
     "end_time": "2023-11-21T15:14:22.318339457Z",
     "start_time": "2023-11-21T15:14:02.990451976Z"
    }
   },
   "id": "fcf07e703830f897"
  },
  {
   "cell_type": "code",
   "execution_count": 11,
   "outputs": [
    {
     "name": "stdout",
     "output_type": "stream",
     "text": [
      "11/11 [==============================] - 0s 7ms/step\n"
     ]
    },
    {
     "data": {
      "text/plain": "<Figure size 576x432 with 2 Axes>",
      "image/png": "[encoded data removed]"
     },
     "metadata": {},
     "output_type": "display_data"
    },
    {
     "name": "stdout",
     "output_type": "stream",
     "text": [
      "              precision    recall  f1-score   support\n",
      "\n",
      "           0       0.00      0.00      0.00        58\n",
      "           1       0.00      0.00      0.00        58\n",
      "           2       0.00      0.00      0.00        58\n",
      "           3       0.17      1.00      0.29        58\n",
      "           4       0.00      0.00      0.00        57\n",
      "           5       0.00      0.00      0.00        57\n",
      "\n",
      "    accuracy                           0.17       346\n",
      "   macro avg       0.03      0.17      0.05       346\n",
      "weighted avg       0.03      0.17      0.05       346\n"
     ]
    },
    {
     "name": "stderr",
     "output_type": "stream",
     "text": [
      "/home/zhangze6/anaconda3/envs/neuralbody/lib/python3.7/site-packages/sklearn/metrics/_classification.py:1318: UndefinedMetricWarning: Precision and F-score are ill-defined and being set to 0.0 in labels with no predicted samples. Use `zero_division` parameter to control this behavior.\n",
      "  _warn_prf(average, modifier, msg_start, len(result))\n",
      "/home/zhangze6/anaconda3/envs/neuralbody/lib/python3.7/site-packages/sklearn/metrics/_classification.py:1318: UndefinedMetricWarning: Precision and F-score are ill-defined and being set to 0.0 in labels with no predicted samples. Use `zero_division` parameter to control this behavior.\n",
      "  _warn_prf(average, modifier, msg_start, len(result))\n",
      "/home/zhangze6/anaconda3/envs/neuralbody/lib/python3.7/site-packages/sklearn/metrics/_classification.py:1318: UndefinedMetricWarning: Precision and F-score are ill-defined and being set to 0.0 in labels with no predicted samples. Use `zero_division` parameter to control this behavior.\n",
      "  _warn_prf(average, modifier, msg_start, len(result))\n"
     ]
    }
   ],
   "source": [
    "predicted_res_prob = Resmodel.predict(x_test)\n",
    "predicted_res_labels = np.argmax(predicted_res_prob, axis=1)\n",
    "\n",
    "cmres = confusion_matrix(y_true=np.argmax(y_test, axis=1), y_pred=predicted_res_labels)\n",
    "plt.figure(figsize=(8, 6))\n",
    "sns.heatmap(cmres, annot=True, fmt='d', cmap='Blues', xticklabels=[0, 1, 2, 3, 4 ,5], yticklabels=[0, 1, 2, 3, 4 ,5])\n",
    "plt.xlabel('Predicted')\n",
    "plt.ylabel('True')\n",
    "plt.title('Confusion Matrix ResNet')\n",
    "plt.show()\n",
    "\n",
    "print(classification_report(y_true=np.argmax(y_test, axis=1), y_pred=predicted_res_labels))"
   ],
   "metadata": {
    "collapsed": false,
    "ExecuteTime": {
     "end_time": "2023-11-21T15:14:25.137529677Z",
     "start_time": "2023-11-21T15:14:24.653046272Z"
    }
   },
   "id": "e2a39be15c186bad"
  }
 ],
 "metadata": {
  "kernelspec": {
   "display_name": "Python 3",
   "language": "python",
   "name": "python3"
  },
  "language_info": {
   "codemirror_mode": {
    "name": "ipython",
    "version": 2
   },
   "file_extension": ".py",
   "mimetype": "text/x-python",
   "name": "python",
   "nbconvert_exporter": "python",
   "pygments_lexer": "ipython2",
   "version": "2.7.6"
  }
 },
 "nbformat": 4,
 "nbformat_minor": 5
}
