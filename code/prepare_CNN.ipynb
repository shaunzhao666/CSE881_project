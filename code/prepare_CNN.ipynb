{
 "cells": [
  {
   "cell_type": "markdown",
   "metadata": {},
   "source": [
    "prepare data for CNN\n",
    "* use the extracted corrdinate and area, using plt to resize the data"
   ]
  },
  {
   "cell_type": "code",
   "execution_count": 57,
   "metadata": {},
   "outputs": [],
   "source": [
    "import pandas as pd\n",
    "import matplotlib.pyplot as plt\n",
    "from PIL import Image\n",
    "import numpy as np\n",
    "import os\n",
    "import re"
   ]
  },
  {
   "cell_type": "code",
   "execution_count": 58,
   "metadata": {},
   "outputs": [],
   "source": [
    "input_dir = \"../coordinate_radius\"\n",
    "sub_dir = \"../resize_image\"\n",
    "output_dir = \"../\"\n",
    "# unify the image size\n",
    "image_size = (10, 10)\n",
    "pixels = []\n",
    "targets = []\n",
    "\n",
    "# use loop to read the extracted coordinates and radius \n",
    "for class_name in os.listdir(input_dir):\n",
    "    if not class_name.endswith('.png'):\n",
    "        continue\n",
    "    class_path = os.path.join(input_dir, class_name)\n",
    "    star_df = pd.read_csv(class_path)\n",
    "    star_df = star_df.drop(columns=[\"Unnamed: 0\"])\n",
    "    max_value = np.max(star_df.iloc[:, :2].max())\n",
    "    rounded_max_values = np.ceil(max_value / 50) * 50 # rounded_max_value for axis range\n",
    "    # ursa_minor_1 --> ursa_minor\n",
    "    pattern = r\"^(.*?)_\\d+\\.png$\"\n",
    "    match = re.match(pattern, class_name) \n",
    "    if match:\n",
    "        target = match.group(1)\n",
    "    else:\n",
    "        target = class_name\n",
    "    targets.append(target)  \n",
    "\n",
    "    # draw the unifying picture\n",
    "    sky_image = plt.figure(figsize=image_size, dpi=100)\n",
    "    ax = sky_image.add_subplot(111)\n",
    "    for index, row in star_df.iterrows():\n",
    "        x, y, radius = row['x'], row['y'], row['r']\n",
    "        circle = plt.Circle((x, y), radius, color='white', alpha=1.0, edgecolor='none', zorder=10)\n",
    "        ax.add_artist(circle)\n",
    "    ax.set_xlim(0, rounded_max_values)\n",
    "    ax.set_ylim(0, rounded_max_values)\n",
    "    ax.set_aspect('equal')\n",
    "    ax.set_facecolor('black') \n",
    "    ax.set_xticks([])\n",
    "    ax.set_yticks([])\n",
    "    subpath = os.path.join(sub_dir, class_name)\n",
    "    plt.savefig(subpath, bbox_inches='tight', pad_inches=0, dpi=100)\n",
    "\n",
    "    # extract the pixel information for unified image\n",
    "    image = Image.open(subpath)\n",
    "    image_array = np.array(image)\n",
    "    pixels.append(image_array)\n",
    "\n",
    "# store the pixel and target in numpy (just like mnist datset)\n",
    "pixels = np.array(pixels)\n",
    "targets = np.array(targets)\n",
    "np.save(output_dir + \"images.npy\", pixels)\n",
    "np.save(output_dir + \"labels.npy\", targets)"
   ]
  }
 ],
 "metadata": {
  "kernelspec": {
   "display_name": "base",
   "language": "python",
   "name": "python3"
  },
  "language_info": {
   "codemirror_mode": {
    "name": "ipython",
    "version": 3
   },
   "file_extension": ".py",
   "mimetype": "text/x-python",
   "name": "python",
   "nbconvert_exporter": "python",
   "pygments_lexer": "ipython3",
   "version": "3.9.16"
  }
 },
 "nbformat": 4,
 "nbformat_minor": 2
}
