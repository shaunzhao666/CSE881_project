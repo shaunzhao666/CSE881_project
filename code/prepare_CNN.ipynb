{
 "cells": [
  {
   "cell_type": "markdown",
   "metadata": {},
   "source": [
    "prepare data for CNN\n",
    "* use the extracted corrdinate and area, using plt to resize the data"
   ]
  },
  {
   "cell_type": "code",
   "execution_count": 42,
   "metadata": {},
   "outputs": [],
   "source": [
    "import pandas as pd\n",
    "import matplotlib.pyplot as plt\n",
    "from PIL import Image\n",
    "import numpy as np\n",
    "import os\n",
    "import re"
   ]
  },
  {
   "cell_type": "code",
   "execution_count": 38,
   "metadata": {},
   "outputs": [
    {
     "data": {
      "text/html": [
       "<div>\n",
       "<style scoped>\n",
       "    .dataframe tbody tr th:only-of-type {\n",
       "        vertical-align: middle;\n",
       "    }\n",
       "\n",
       "    .dataframe tbody tr th {\n",
       "        vertical-align: top;\n",
       "    }\n",
       "\n",
       "    .dataframe thead th {\n",
       "        text-align: right;\n",
       "    }\n",
       "</style>\n",
       "<table border=\"1\" class=\"dataframe\">\n",
       "  <thead>\n",
       "    <tr style=\"text-align: right;\">\n",
       "      <th></th>\n",
       "      <th>x</th>\n",
       "      <th>y</th>\n",
       "      <th>r</th>\n",
       "    </tr>\n",
       "  </thead>\n",
       "  <tbody>\n",
       "    <tr>\n",
       "      <th>0</th>\n",
       "      <td>249.0</td>\n",
       "      <td>66.0</td>\n",
       "      <td>4.222222</td>\n",
       "    </tr>\n",
       "    <tr>\n",
       "      <th>1</th>\n",
       "      <td>63.0</td>\n",
       "      <td>158.0</td>\n",
       "      <td>4.222222</td>\n",
       "    </tr>\n",
       "    <tr>\n",
       "      <th>2</th>\n",
       "      <td>287.0</td>\n",
       "      <td>68.0</td>\n",
       "      <td>1.000000</td>\n",
       "    </tr>\n",
       "    <tr>\n",
       "      <th>3</th>\n",
       "      <td>185.0</td>\n",
       "      <td>151.0</td>\n",
       "      <td>1.000000</td>\n",
       "    </tr>\n",
       "    <tr>\n",
       "      <th>4</th>\n",
       "      <td>124.0</td>\n",
       "      <td>167.0</td>\n",
       "      <td>1.000000</td>\n",
       "    </tr>\n",
       "    <tr>\n",
       "      <th>5</th>\n",
       "      <td>224.0</td>\n",
       "      <td>108.0</td>\n",
       "      <td>1.000000</td>\n",
       "    </tr>\n",
       "    <tr>\n",
       "      <th>6</th>\n",
       "      <td>123.0</td>\n",
       "      <td>203.0</td>\n",
       "      <td>1.000000</td>\n",
       "    </tr>\n",
       "    <tr>\n",
       "      <th>7</th>\n",
       "      <td>11.0</td>\n",
       "      <td>231.0</td>\n",
       "      <td>1.000000</td>\n",
       "    </tr>\n",
       "    <tr>\n",
       "      <th>8</th>\n",
       "      <td>284.0</td>\n",
       "      <td>216.0</td>\n",
       "      <td>1.000000</td>\n",
       "    </tr>\n",
       "    <tr>\n",
       "      <th>9</th>\n",
       "      <td>74.0</td>\n",
       "      <td>133.0</td>\n",
       "      <td>1.000000</td>\n",
       "    </tr>\n",
       "    <tr>\n",
       "      <th>10</th>\n",
       "      <td>52.0</td>\n",
       "      <td>197.0</td>\n",
       "      <td>4.222222</td>\n",
       "    </tr>\n",
       "  </tbody>\n",
       "</table>\n",
       "</div>"
      ],
      "text/plain": [
       "        x      y         r\n",
       "0   249.0   66.0  4.222222\n",
       "1    63.0  158.0  4.222222\n",
       "2   287.0   68.0  1.000000\n",
       "3   185.0  151.0  1.000000\n",
       "4   124.0  167.0  1.000000\n",
       "5   224.0  108.0  1.000000\n",
       "6   123.0  203.0  1.000000\n",
       "7    11.0  231.0  1.000000\n",
       "8   284.0  216.0  1.000000\n",
       "9    74.0  133.0  1.000000\n",
       "10   52.0  197.0  4.222222"
      ]
     },
     "execution_count": 38,
     "metadata": {},
     "output_type": "execute_result"
    }
   ],
   "source": [
    "star_df = pd.read_csv(\"../coordinate_radius/ursa_minor_1.csv\")\n",
    "star_df = star_df.drop(columns=[\"Unnamed: 0\"])\n",
    "star_df"
   ]
  },
  {
   "cell_type": "code",
   "execution_count": 39,
   "metadata": {},
   "outputs": [
    {
     "name": "stderr",
     "output_type": "stream",
     "text": [
      "/var/folders/cd/s7rvnz8129v27nvpxmvwn9hc0000gn/T/ipykernel_15680/2677778751.py:7: UserWarning: Setting the 'color' property will override the edgecolor or facecolor properties.\n",
      "  circle = plt.Circle((x, y), radius, color='white', alpha=1.0, edgecolor='none', zorder=10)\n"
     ]
    },
    {
     "data": {
      "image/png": "[encoded data removed]",
      "text/plain": [
       "<Figure size 1000x1000 with 1 Axes>"
      ]
     },
     "metadata": {},
     "output_type": "display_data"
    }
   ],
   "source": [
    "# Create a blank canvas for your sky image\n",
    "sky_image = plt.figure(figsize=(10, 10), dpi=100)\n",
    "ax = sky_image.add_subplot(111)\n",
    "\n",
    "for index, row in star_df.iterrows():\n",
    "    x, y, radius = row['x'], row['y'], row['r']\n",
    "    circle = plt.Circle((x, y), radius, color='white', alpha=1.0, edgecolor='none', zorder=10)\n",
    "    ax.add_artist(circle)\n",
    "\n",
    "# Customize the appearance of the sky (e.g., background color)\n",
    "ax.set_xlim(0, 300)\n",
    "ax.set_ylim(0, 300)\n",
    "ax.set_aspect('equal')\n",
    "ax.set_facecolor('black')  # Set the background color to black (representing the night sky)\n",
    "\n",
    "# Remove axis labels and ticks\n",
    "ax.set_xticks([])\n",
    "ax.set_yticks([])\n",
    "plt.savefig('../resize_image/ursa_minor_1.png', bbox_inches='tight', pad_inches=0, dpi=100)"
   ]
  },
  {
   "cell_type": "code",
   "execution_count": 50,
   "metadata": {},
   "outputs": [
    {
     "name": "stdout",
     "output_type": "stream",
     "text": [
      "../resize_image/ursa_minor_1.png\n"
     ]
    }
   ],
   "source": [
    "input_dir = \"../resize_image\"\n",
    "output_dir = \"../\"\n",
    "image_size = (10, 10)\n",
    "pixels = []\n",
    "targets = []\n",
    "for class_name in os.listdir(input_dir):\n",
    "    if not class_name.endswith('.png'):\n",
    "        continue\n",
    "    class_path = os.path.join(input_dir, class_name)\n",
    "    print(class_path)\n",
    "    pattern = r\"^(.*?)_\\d+\\.png$\"\n",
    "    match = re.match(pattern, class_name)\n",
    "    if match:\n",
    "        target = match.group(1)\n",
    "    else:\n",
    "        target = class_name\n",
    "    targets.append(target)\n",
    "    image = Image.open(class_path)\n",
    "    image_array = np.array(image)\n",
    "    pixels.append(image_array)\n",
    "\n",
    "pixels = np.array(pixels)\n",
    "targets = np.array(targets)\n",
    "\n",
    "np.save(output_dir + \"images.npy\", pixels)\n",
    "np.save(output_dir + \"labels.npy\", targets)"
   ]
  }
 ],
 "metadata": {
  "kernelspec": {
   "display_name": "base",
   "language": "python",
   "name": "python3"
  },
  "language_info": {
   "codemirror_mode": {
    "name": "ipython",
    "version": 3
   },
   "file_extension": ".py",
   "mimetype": "text/x-python",
   "name": "python",
   "nbconvert_exporter": "python",
   "pygments_lexer": "ipython3",
   "version": "3.9.16"
  }
 },
 "nbformat": 4,
 "nbformat_minor": 2
}
