{
 "cells": [
  {
   "cell_type": "markdown",
   "metadata": {},
   "source": [
    "prepare data for CNN\n",
    "* use the extracted corrdinate and area, using plt to resize the data"
   ]
  },
  {
   "cell_type": "code",
   "execution_count": 57,
   "metadata": {},
   "outputs": [],
   "source": [
    "import pandas as pd\n",
    "import matplotlib.pyplot as plt\n",
    "from PIL import Image\n",
    "import numpy as np\n",
    "import os\n",
    "import re"
   ]
  },
  {
   "cell_type": "code",
   "execution_count": 58,
   "metadata": {},
   "outputs": [],
   "source": [
    "input_dir = \"../TrainingSamples\"\n",
    "output_dir = \"../\"\n",
    "# unify the image size\n",
    "pixels = []\n",
    "targets = []\n",
    "\n",
    "# use loop to read the extracted coordinates and radius \n",
    "for class_name in os.listdir(input_dir):\n",
    "    if not class_name.endswith('.png'):\n",
    "        continue\n",
    "    class_path = os.path.join(input_dir, class_name)\n",
    "    pattern = r\"^(.*?)_\\d+\\.png$\"\n",
    "    match = re.match(pattern, class_name) \n",
    "    if match:\n",
    "        target = match.group(1)\n",
    "    else:\n",
    "        target = class_name\n",
    "    targets.append(target)  \n",
    "\n",
    "    # extract the pixel information for unified image\n",
    "    image = Image.open(class_path)\n",
    "    image_array = np.array(image)\n",
    "    pixels.append(image_array)\n",
    "\n",
    "# store the pixel and target in numpy (just like mnist datset)\n",
    "pixels = np.array(pixels)\n",
    "targets = np.array(targets)\n",
    "np.save(output_dir + \"images.npy\", pixels)\n",
    "np.save(output_dir + \"labels.npy\", targets)"
   ]
  }
 ],
 "metadata": {
  "kernelspec": {
   "display_name": "base",
   "language": "python",
   "name": "python3"
  },
  "language_info": {
   "codemirror_mode": {
    "name": "ipython",
    "version": 3
   },
   "file_extension": ".py",
   "mimetype": "text/x-python",
   "name": "python",
   "nbconvert_exporter": "python",
   "pygments_lexer": "ipython3",
   "version": "3.9.16"
  }
 },
 "nbformat": 4,
 "nbformat_minor": 2
}
