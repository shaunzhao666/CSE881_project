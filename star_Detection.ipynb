{
 "cells": [
  {
   "cell_type": "markdown",
   "metadata": {},
   "source": [
    "不理想"
   ]
  },
  {
   "cell_type": "code",
   "execution_count": 2,
   "metadata": {},
   "outputs": [],
   "source": [
    "import cv2\n",
    "import numpy as np\n",
    "from matplotlib import pyplot as plt\n",
    "from skimage.feature import blob_log\n",
    "import plotly.express as px\n",
    "import pandas as pd"
   ]
  },
  {
   "cell_type": "code",
   "execution_count": 27,
   "metadata": {},
   "outputs": [
    {
     "data": {
      "text/html": [
       "<div>\n",
       "<style scoped>\n",
       "    .dataframe tbody tr th:only-of-type {\n",
       "        vertical-align: middle;\n",
       "    }\n",
       "\n",
       "    .dataframe tbody tr th {\n",
       "        vertical-align: top;\n",
       "    }\n",
       "\n",
       "    .dataframe thead th {\n",
       "        text-align: right;\n",
       "    }\n",
       "</style>\n",
       "<table border=\"1\" class=\"dataframe\">\n",
       "  <thead>\n",
       "    <tr style=\"text-align: right;\">\n",
       "      <th></th>\n",
       "      <th>x</th>\n",
       "      <th>y</th>\n",
       "      <th>r</th>\n",
       "    </tr>\n",
       "  </thead>\n",
       "  <tbody>\n",
       "    <tr>\n",
       "      <th>0</th>\n",
       "      <td>124.0</td>\n",
       "      <td>167.0</td>\n",
       "      <td>1.0</td>\n",
       "    </tr>\n",
       "    <tr>\n",
       "      <th>1</th>\n",
       "      <td>287.0</td>\n",
       "      <td>68.0</td>\n",
       "      <td>1.0</td>\n",
       "    </tr>\n",
       "    <tr>\n",
       "      <th>2</th>\n",
       "      <td>284.0</td>\n",
       "      <td>216.0</td>\n",
       "      <td>1.0</td>\n",
       "    </tr>\n",
       "    <tr>\n",
       "      <th>3</th>\n",
       "      <td>224.0</td>\n",
       "      <td>108.0</td>\n",
       "      <td>1.0</td>\n",
       "    </tr>\n",
       "    <tr>\n",
       "      <th>4</th>\n",
       "      <td>11.0</td>\n",
       "      <td>231.0</td>\n",
       "      <td>1.0</td>\n",
       "    </tr>\n",
       "    <tr>\n",
       "      <th>5</th>\n",
       "      <td>73.0</td>\n",
       "      <td>133.0</td>\n",
       "      <td>1.0</td>\n",
       "    </tr>\n",
       "    <tr>\n",
       "      <th>6</th>\n",
       "      <td>184.0</td>\n",
       "      <td>151.0</td>\n",
       "      <td>1.0</td>\n",
       "    </tr>\n",
       "    <tr>\n",
       "      <th>7</th>\n",
       "      <td>123.0</td>\n",
       "      <td>203.0</td>\n",
       "      <td>1.0</td>\n",
       "    </tr>\n",
       "    <tr>\n",
       "      <th>8</th>\n",
       "      <td>249.0</td>\n",
       "      <td>62.0</td>\n",
       "      <td>1.0</td>\n",
       "    </tr>\n",
       "    <tr>\n",
       "      <th>9</th>\n",
       "      <td>49.0</td>\n",
       "      <td>196.0</td>\n",
       "      <td>1.0</td>\n",
       "    </tr>\n",
       "    <tr>\n",
       "      <th>10</th>\n",
       "      <td>250.0</td>\n",
       "      <td>69.0</td>\n",
       "      <td>1.0</td>\n",
       "    </tr>\n",
       "  </tbody>\n",
       "</table>\n",
       "</div>"
      ],
      "text/plain": [
       "        x      y    r\n",
       "0   124.0  167.0  1.0\n",
       "1   287.0   68.0  1.0\n",
       "2   284.0  216.0  1.0\n",
       "3   224.0  108.0  1.0\n",
       "4    11.0  231.0  1.0\n",
       "5    73.0  133.0  1.0\n",
       "6   184.0  151.0  1.0\n",
       "7   123.0  203.0  1.0\n",
       "8   249.0   62.0  1.0\n",
       "9    49.0  196.0  1.0\n",
       "10  250.0   69.0  1.0"
      ]
     },
     "execution_count": 27,
     "metadata": {},
     "output_type": "execute_result"
    }
   ],
   "source": [
    "skyfile = '/Users/apple/Desktop/CSE881/project/dataset/URSA_MINOR/ursa_minor.png'\n",
    "img_gray = cv2.imread(skyfile,cv2.IMREAD_GRAYSCALE)\n",
    "\n",
    "f = np.fft.fft2(img_gray)\n",
    "fshift = np.fft.fftshift(f)\n",
    "\n",
    "# for visualization purposes\n",
    "magnitude_spectrum = 20*np.log(np.abs(fshift))\n",
    "rows, cols = img_gray.shape\n",
    "crow,ccol = rows/2 , cols/2\n",
    "\n",
    "hpfmasksize = 30\n",
    "fshift[int(crow-hpfmasksize):int(crow+hpfmasksize), int(ccol-hpfmasksize):int(ccol+hpfmasksize)] = 0\n",
    "f_ishift = np.fft.ifftshift(fshift)\n",
    "img_back = np.fft.ifft2(f_ishift)\n",
    "img_back = np.abs(img_back)\n",
    "icutoff = 80.0\n",
    "ifinal_high = 200.0\n",
    "ifinal_low = 0.0\n",
    "\n",
    "for p in range(0,rows):\n",
    "\tfor q in range(0,cols):\n",
    "\t\tif  (img_back[p][q] >= icutoff):\n",
    "\t\t\timg_back[p][q] = ifinal_high\n",
    "\t\telse:\n",
    "\t\t\timg_back[p][q] = ifinal_low\n",
    "\n",
    "\n",
    "img_back = cv2.convertScaleAbs(img_back)\n",
    "img_gray_flipped = cv2.flip(img_back, 0)\n",
    "blobs = blob_log(img_gray_flipped, max_sigma=30, num_sigma=10, threshold=.2)\n",
    "y = blobs[:, 0]\n",
    "x = blobs[:, 1]\n",
    "r = blobs[:, 2]\n",
    "df = pd.DataFrame({\"x\": x, \"y\": y, \"r\": r})\n",
    "df"
   ]
  },
  {
   "cell_type": "code",
   "execution_count": 28,
   "metadata": {},
   "outputs": [
    {
     "name": "stderr",
     "output_type": "stream",
     "text": [
      "/var/folders/cd/s7rvnz8129v27nvpxmvwn9hc0000gn/T/ipykernel_22047/1430627717.py:5: UserWarning: Setting the 'color' property will override the edgecolor or facecolor properties.\n",
      "  circle = plt.Circle((x, y), radius, color='white', alpha=1.0, edgecolor='none', zorder=10)\n"
     ]
    },
    {
     "data": {
      "text/plain": [
       "[]"
      ]
     },
     "execution_count": 28,
     "metadata": {},
     "output_type": "execute_result"
    },
    {
     "data": {
      "image/png": "[encoded data removed]",
      "text/plain": [
       "<Figure size 1000x1000 with 1 Axes>"
      ]
     },
     "metadata": {},
     "output_type": "display_data"
    }
   ],
   "source": [
    "\n",
    "sky_image = plt.figure(figsize=(10, 10), dpi=100)\n",
    "ax = sky_image.add_subplot(111)\n",
    "for index, row in df.iterrows():\n",
    "    x, y, radius = row['x'], row['y'], row['r']\n",
    "    circle = plt.Circle((x, y), radius, color='white', alpha=1.0, edgecolor='none', zorder=10)\n",
    "    ax.add_artist(circle)\n",
    "\n",
    "# Customize the appearance of the sky (e.g., background color)\n",
    "ax.set_xlim(0, 300)\n",
    "ax.set_ylim(0, 300)\n",
    "ax.set_aspect('equal')\n",
    "ax.set_facecolor('black')  # Set the background color to black (representing the night sky)\n",
    "\n",
    "# Remove axis labels and ticks\n",
    "ax.set_xticks([])\n",
    "ax.set_yticks([])\n"
   ]
  },
  {
   "cell_type": "code",
   "execution_count": 8,
   "metadata": {},
   "outputs": [
    {
     "data": {
      "text/html": [
       "<div>\n",
       "<style scoped>\n",
       "    .dataframe tbody tr th:only-of-type {\n",
       "        vertical-align: middle;\n",
       "    }\n",
       "\n",
       "    .dataframe tbody tr th {\n",
       "        vertical-align: top;\n",
       "    }\n",
       "\n",
       "    .dataframe thead th {\n",
       "        text-align: right;\n",
       "    }\n",
       "</style>\n",
       "<table border=\"1\" class=\"dataframe\">\n",
       "  <thead>\n",
       "    <tr style=\"text-align: right;\">\n",
       "      <th></th>\n",
       "      <th>x</th>\n",
       "      <th>y</th>\n",
       "      <th>r</th>\n",
       "    </tr>\n",
       "  </thead>\n",
       "  <tbody>\n",
       "    <tr>\n",
       "      <th>0</th>\n",
       "      <td>249.0</td>\n",
       "      <td>66.0</td>\n",
       "      <td>4.222222</td>\n",
       "    </tr>\n",
       "    <tr>\n",
       "      <th>1</th>\n",
       "      <td>63.0</td>\n",
       "      <td>158.0</td>\n",
       "      <td>4.222222</td>\n",
       "    </tr>\n",
       "    <tr>\n",
       "      <th>2</th>\n",
       "      <td>287.0</td>\n",
       "      <td>68.0</td>\n",
       "      <td>1.000000</td>\n",
       "    </tr>\n",
       "    <tr>\n",
       "      <th>3</th>\n",
       "      <td>185.0</td>\n",
       "      <td>151.0</td>\n",
       "      <td>1.000000</td>\n",
       "    </tr>\n",
       "    <tr>\n",
       "      <th>4</th>\n",
       "      <td>124.0</td>\n",
       "      <td>167.0</td>\n",
       "      <td>1.000000</td>\n",
       "    </tr>\n",
       "    <tr>\n",
       "      <th>5</th>\n",
       "      <td>224.0</td>\n",
       "      <td>108.0</td>\n",
       "      <td>1.000000</td>\n",
       "    </tr>\n",
       "    <tr>\n",
       "      <th>6</th>\n",
       "      <td>123.0</td>\n",
       "      <td>203.0</td>\n",
       "      <td>1.000000</td>\n",
       "    </tr>\n",
       "    <tr>\n",
       "      <th>7</th>\n",
       "      <td>11.0</td>\n",
       "      <td>231.0</td>\n",
       "      <td>1.000000</td>\n",
       "    </tr>\n",
       "    <tr>\n",
       "      <th>8</th>\n",
       "      <td>284.0</td>\n",
       "      <td>216.0</td>\n",
       "      <td>1.000000</td>\n",
       "    </tr>\n",
       "    <tr>\n",
       "      <th>9</th>\n",
       "      <td>74.0</td>\n",
       "      <td>133.0</td>\n",
       "      <td>1.000000</td>\n",
       "    </tr>\n",
       "    <tr>\n",
       "      <th>10</th>\n",
       "      <td>52.0</td>\n",
       "      <td>197.0</td>\n",
       "      <td>4.222222</td>\n",
       "    </tr>\n",
       "  </tbody>\n",
       "</table>\n",
       "</div>"
      ],
      "text/plain": [
       "        x      y         r\n",
       "0   249.0   66.0  4.222222\n",
       "1    63.0  158.0  4.222222\n",
       "2   287.0   68.0  1.000000\n",
       "3   185.0  151.0  1.000000\n",
       "4   124.0  167.0  1.000000\n",
       "5   224.0  108.0  1.000000\n",
       "6   123.0  203.0  1.000000\n",
       "7    11.0  231.0  1.000000\n",
       "8   284.0  216.0  1.000000\n",
       "9    74.0  133.0  1.000000\n",
       "10   52.0  197.0  4.222222"
      ]
     },
     "execution_count": 8,
     "metadata": {},
     "output_type": "execute_result"
    }
   ],
   "source": [
    "skyfile = '/Users/apple/Desktop/CSE881/project/dataset/URSA_MINOR/ursa_minor.png'\n",
    "img_gray = cv2.imread(skyfile,cv2.IMREAD_GRAYSCALE)\n",
    "img_gray_flipped = cv2.flip(img_gray, 0)\n",
    "blobs = blob_log(img_gray_flipped, max_sigma=30, num_sigma=10, threshold=.2)\n",
    "y = blobs[:, 0]\n",
    "x = blobs[:, 1]\n",
    "r = blobs[:, 2]\n",
    "df = pd.DataFrame({\"x\": x, \"y\": y, \"r\": r})\n",
    "df"
   ]
  },
  {
   "cell_type": "code",
   "execution_count": 9,
   "metadata": {},
   "outputs": [
    {
     "name": "stderr",
     "output_type": "stream",
     "text": [
      "/var/folders/cd/s7rvnz8129v27nvpxmvwn9hc0000gn/T/ipykernel_22047/2889722021.py:5: UserWarning: Setting the 'color' property will override the edgecolor or facecolor properties.\n",
      "  circle = plt.Circle((x, y), radius, color='white', alpha=1.0, edgecolor='none', zorder=10)\n"
     ]
    },
    {
     "data": {
      "text/plain": [
       "[]"
      ]
     },
     "execution_count": 9,
     "metadata": {},
     "output_type": "execute_result"
    },
    {
     "data": {
      "image/png": "[encoded data removed]",
      "text/plain": [
       "<Figure size 1000x1000 with 1 Axes>"
      ]
     },
     "metadata": {},
     "output_type": "display_data"
    }
   ],
   "source": [
    "sky_image = plt.figure(figsize=(10, 10), dpi=100)\n",
    "ax = sky_image.add_subplot(111)\n",
    "for index, row in df.iterrows():\n",
    "    x, y, radius = row['x'], row['y'], row['r']\n",
    "    circle = plt.Circle((x, y), radius, color='white', alpha=1.0, edgecolor='none', zorder=10)\n",
    "    ax.add_artist(circle)\n",
    "\n",
    "# Customize the appearance of the sky (e.g., background color)\n",
    "ax.set_xlim(0, 300)\n",
    "ax.set_ylim(0, 300)\n",
    "ax.set_aspect('equal')\n",
    "ax.set_facecolor('black')  # Set the background color to black (representing the night sky)\n",
    "\n",
    "# Remove axis labels and ticks\n",
    "ax.set_xticks([])\n",
    "ax.set_yticks([])"
   ]
  }
 ],
 "metadata": {
  "kernelspec": {
   "display_name": "base",
   "language": "python",
   "name": "python3"
  },
  "language_info": {
   "codemirror_mode": {
    "name": "ipython",
    "version": 3
   },
   "file_extension": ".py",
   "mimetype": "text/x-python",
   "name": "python",
   "nbconvert_exporter": "python",
   "pygments_lexer": "ipython3",
   "version": "3.9.16"
  }
 },
 "nbformat": 4,
 "nbformat_minor": 2
}
