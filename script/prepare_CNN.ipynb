{
 "cells": [
  {
   "cell_type": "markdown",
   "metadata": {},
   "source": [
    "prepare data for CNN\n"
   ]
  },
  {
   "cell_type": "code",
   "execution_count": 1,
   "metadata": {},
   "outputs": [],
   "source": [
    "import pandas as pd\n",
    "import matplotlib.pyplot as plt\n",
    "from PIL import Image\n",
    "import numpy as np\n",
    "import os"
   ]
  },
  {
   "cell_type": "code",
   "execution_count": 2,
   "metadata": {},
   "outputs": [],
   "source": [
    "input_dir = \"../TrainingSample\"\n",
    "output_dir = \"../data_model\"\n",
    "\n",
    "pixels = []\n",
    "targets = []\n",
    "\n",
    "for class_name in os.listdir(input_dir):\n",
    "    if class_name in [\".DS_Store\", \"readme.md\"]:\n",
    "        continue\n",
    "    class_path = os.path.join(input_dir, class_name)\n",
    "    target = class_name \n",
    "\n",
    "    for images_name in os.listdir(class_path):\n",
    "        if images_name.endswith(('.png')): \n",
    "            imagepath = os.path.join(class_path, images_name)\n",
    "            image = Image.open(imagepath)\n",
    "            image_array = np.array(image)\n",
    "            pixels.append(image_array)\n",
    "            targets.append(target) \n",
    "\n",
    "# store the pixel and target in numpy (just like mnist datset)\n",
    "pixels = np.array(pixels)\n",
    "targets = np.array(targets)\n",
    "np.save(os.path.join(output_dir, \"images_CNN.npy\"),  pixels)\n",
    "np.save(os.path.join(output_dir,\"labels_CNN.npy\") , targets)"
   ]
  },
  {
   "cell_type": "code",
   "execution_count": 3,
   "metadata": {},
   "outputs": [
    {
     "name": "stdout",
     "output_type": "stream",
     "text": [
      "(24, 256, 256, 3)\n",
      "(24,)\n"
     ]
    }
   ],
   "source": [
    "images = np.load(os.path.join(output_dir, \"images_CNN.npy\"))\n",
    "labels = np.load(os.path.join(output_dir,\"labels_CNN.npy\"))\n",
    "print(images.shape)\n",
    "print(labels.shape)"
   ]
  }
 ],
 "metadata": {
  "kernelspec": {
   "display_name": "base",
   "language": "python",
   "name": "python3"
  },
  "language_info": {
   "codemirror_mode": {
    "name": "ipython",
    "version": 3
   },
   "file_extension": ".py",
   "mimetype": "text/x-python",
   "name": "python",
   "nbconvert_exporter": "python",
   "pygments_lexer": "ipython3",
   "version": "3.9.16"
  }
 },
 "nbformat": 4,
 "nbformat_minor": 2
}
