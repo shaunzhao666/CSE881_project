{
 "cells": [
  {
   "cell_type": "code",
   "execution_count": null,
   "metadata": {},
   "outputs": [],
   "source": [
    "import pandas as pd\n",
    "import matplotlib.pyplot as plt\n",
    "from PIL import Image\n",
    "import numpy as np\n",
    "import os"
   ]
  },
  {
   "cell_type": "code",
   "execution_count": null,
   "metadata": {},
   "outputs": [],
   "source": [
    "input_dir = \"../TrainingSample\"\n",
    "output_dir = \"../data_model\"\n",
    "\n",
    "pixels = []\n",
    "targets = []\n",
    "\n",
    "for class_name in os.listdir(input_dir):\n",
    "    if class_name in [\".DS_Store\", \"readme.md\"]:\n",
    "        continue\n",
    "    class_path = os.path.join(input_dir, class_name)\n",
    "    target = class_name \n",
    "    if os.listdir(class_path):\n",
    "        for images_name in os.listdir(class_path):\n",
    "            if images_name.endswith(('.png')): \n",
    "                imagepath = os.path.join(class_path, images_name)\n",
    "                image = Image.open(imagepath)\n",
    "                image_array = np.array(image)\n",
    "                pixels.append(image_array)\n",
    "                targets.append(target) \n",
    "\n",
    "# store the pixel and target in numpy (just like mnist datset)\n",
    "pixels = np.array(pixels)\n",
    "targets = np.array(targets)\n",
    "np.save(os.path.join(output_dir, \"images_preCNN.npy\"),  pixels)\n",
    "np.save(os.path.join(output_dir,\"labels_preCNN.npy\") , targets)"
   ]
  }
 ],
 "metadata": {
  "language_info": {
   "name": "python"
  }
 },
 "nbformat": 4,
 "nbformat_minor": 2
}
