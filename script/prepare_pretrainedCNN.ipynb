{
 "cells": [
  {
   "cell_type": "code",
   "execution_count": 1,
   "metadata": {
    "ExecuteTime": {
     "end_time": "2023-11-15T00:30:42.871382876Z",
     "start_time": "2023-11-15T00:30:42.870448692Z"
    }
   },
   "outputs": [],
   "source": [
    "import pandas as pd\n",
    "import matplotlib.pyplot as plt\n",
    "from PIL import Image\n",
    "import numpy as np\n",
    "import os"
   ]
  },
  {
   "cell_type": "code",
   "execution_count": 2,
   "metadata": {
    "ExecuteTime": {
     "end_time": "2023-11-15T00:30:44.477946208Z",
     "start_time": "2023-11-15T00:30:43.693682045Z"
    }
   },
   "outputs": [],
   "source": [
    "input_dir = \"../TrainingSamples\"\n",
    "output_dir = \"../data_model\"\n",
    "\n",
    "pixels = []\n",
    "targets = []\n",
    "\n",
    "for class_name in os.listdir(input_dir):\n",
    "    if class_name in [\".DS_Store\", \"readme.md\", \"previous\", \"Dataset_Details\"]:\n",
    "        continue\n",
    "    class_path = os.path.join(input_dir, class_name)\n",
    "    target = class_name.split(\"_\")[0]\n",
    "    if os.listdir(class_path):\n",
    "        for images_name in os.listdir(class_path):\n",
    "            if images_name.endswith(('.png')): \n",
    "                imagepath = os.path.join(class_path, images_name)\n",
    "                image = Image.open(imagepath)\n",
    "                image_array = np.array(image)\n",
    "                pixels.append(image_array)\n",
    "                targets.append(target) \n",
    "\n",
    "# store the pixel and target in numpy (just like mnist datset)\n",
    "pixels = np.array(pixels)\n",
    "targets = np.array(targets)\n",
    "np.save(os.path.join(output_dir, \"images_preCNN.npy\"),  pixels)\n",
    "np.save(os.path.join(output_dir,\"labels_preCNN.npy\") , targets)"
   ]
  },
  {
   "cell_type": "code",
   "execution_count": null,
   "outputs": [],
   "source": [],
   "metadata": {
    "collapsed": false
   }
  }
 ],
 "metadata": {
  "kernelspec": {
   "display_name": "base",
   "language": "python",
   "name": "python3"
  },
  "language_info": {
   "codemirror_mode": {
    "name": "ipython",
    "version": 3
   },
   "file_extension": ".py",
   "mimetype": "text/x-python",
   "name": "python",
   "nbconvert_exporter": "python",
   "pygments_lexer": "ipython3",
   "version": "3.9.16"
  }
 },
 "nbformat": 4,
 "nbformat_minor": 2
}
