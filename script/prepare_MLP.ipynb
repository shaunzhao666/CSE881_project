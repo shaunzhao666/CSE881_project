{
 "cells": [
  {
   "cell_type": "markdown",
   "metadata": {},
   "source": [
    "prepare data for MLP"
   ]
  },
  {
   "cell_type": "code",
   "execution_count": 94,
   "metadata": {},
   "outputs": [],
   "source": [
    "import numpy as np\n",
    "import os\n",
    "import json"
   ]
  },
  {
   "cell_type": "code",
   "execution_count": 95,
   "metadata": {},
   "outputs": [],
   "source": [
    "max_star = 9"
   ]
  },
  {
   "cell_type": "code",
   "execution_count": 97,
   "metadata": {},
   "outputs": [],
   "source": [
    "def sort_normalize_data(data):\n",
    "    normalized_data = {}\n",
    "    for constellation, values in data.items():\n",
    "        sorted_indices = sorted(range(len(values[\"area\"])), key=lambda i: -values[\"area\"][i])\n",
    "        sorted_area = [values[\"area\"][i] for i in sorted_indices]\n",
    "        sorted_x = [values[\"x\"][i] for i in sorted_indices]\n",
    "        sorted_y = [values[\"y\"][i] for i in sorted_indices]\n",
    "        normalized_values = {\n",
    "           \"area\": [(a - min(sorted_area)) / (max(sorted_area) - min(sorted_area)) for a in sorted_area],\n",
    "           \"x\": [(x - min(sorted_x)) / (max(sorted_x) - min(sorted_x)) for x in sorted_x],\n",
    "           \"y\": [(y - min(sorted_y)) / (max(sorted_y) - min(sorted_y)) for y in sorted_y]\n",
    "       }\n",
    "        normalized_data[constellation] = normalized_values\n",
    "    return normalized_data"
   ]
  },
  {
   "cell_type": "code",
   "execution_count": 98,
   "metadata": {},
   "outputs": [],
   "source": [
    "def create_feature_vectors(data, max_stars, target):\n",
    "    feature_vectors = []\n",
    "    targets = []\n",
    "    for constellation, values in data.items():\n",
    "        feature_vector = []\n",
    "        real_attri = len(values[\"area\"])\n",
    "        for i in range(real_attri):\n",
    "            for key in [\"area\", \"x\", \"y\"]:\n",
    "                feature_vector.append(values[key][i])\n",
    "        if real_attri < max_star:\n",
    "            feature_vector += [0.0] *(max_star*3 - real_attri*3)\n",
    "        else:\n",
    "            feature_vector = feature_vector[:max_stars * 3]\n",
    "        feature_vectors.append(feature_vector)\n",
    "        targets.append(target)\n",
    "    \n",
    "    feature_vectors = np.array(feature_vectors)\n",
    "    return feature_vectors, targets"
   ]
  },
  {
   "cell_type": "code",
   "execution_count": 99,
   "metadata": {},
   "outputs": [],
   "source": [
    "# loop to read corrdinates and radius of stars in every constellation\n",
    "input_dir = \"../TrainingSample\"\n",
    "output_dir = \"../data_model\"\n",
    "\n",
    "attributes = []# coordinates and areas\n",
    "targets = []\n",
    "for class_name in os.listdir(input_dir):\n",
    "    if class_name in [\".DS_Store\", \"readme.md\"]:\n",
    "        continue\n",
    "    class_path = os.path.join(input_dir, class_name)\n",
    "    starpath = os.path.join(class_path, \"results.json\")\n",
    "    with open(starpath, 'r') as json_file:\n",
    "        star_df = json.load(json_file)\n",
    "    attr, target = create_feature_vectors(sort_normalize_data(star_df), max_stars=max_star, target=class_name)\n",
    "    attributes.append(attr)\n",
    "    targets.append(target)\n",
    "attributes = np.array(attributes)\n",
    "target = np.array(target)\n",
    "np.save(os.path.join(output_dir, \"star_coor_area_MLP.npy\"),  attributes[0])\n",
    "np.save(os.path.join(output_dir,\"labels_MLP.npy\") , targets[0])\n"
   ]
  },
  {
   "cell_type": "code",
   "execution_count": 100,
   "metadata": {},
   "outputs": [
    {
     "name": "stdout",
     "output_type": "stream",
     "text": [
      "(24, 27)\n",
      "(24,)\n"
     ]
    }
   ],
   "source": [
    "star = np.load(os.path.join(output_dir, \"star_coor_area_MLP.npy\"))\n",
    "labels = np.load(os.path.join(output_dir,\"labels_MLP.npy\"))\n",
    "print(star.shape)\n",
    "print(labels.shape)"
   ]
  }
 ],
 "metadata": {
  "kernelspec": {
   "display_name": "base",
   "language": "python",
   "name": "python3"
  },
  "language_info": {
   "codemirror_mode": {
    "name": "ipython",
    "version": 3
   },
   "file_extension": ".py",
   "mimetype": "text/x-python",
   "name": "python",
   "nbconvert_exporter": "python",
   "pygments_lexer": "ipython3",
   "version": "3.9.16"
  }
 },
 "nbformat": 4,
 "nbformat_minor": 2
}
